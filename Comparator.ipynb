{
 "cells": [
  {
   "cell_type": "markdown",
   "id": "8fcdaab2",
   "metadata": {},
   "source": [
    "# My Approach"
   ]
  },
  {
   "cell_type": "markdown",
   "id": "4b703519",
   "metadata": {},
   "source": [
    "The problem I have chosen to solve is Task 1: Less than k"
   ]
  },
  {
   "cell_type": "markdown",
   "id": "a3d85a87",
   "metadata": {},
   "source": [
    "Task 1: \n",
    "Given a positive integer “k” and a list of integer numbers, look for the numbers within the list, that are less than k. Consider an appropriate number of qubits and explain why your proposal is valid for all kinds of numbers in case "
   ]
  },
  {
   "cell_type": "markdown",
   "id": "c59b4589",
   "metadata": {},
   "source": [
    "From above task, I understood that I need to get result of comparison between two numbers or bitstrings of arbitary length.\n",
    "\n",
    "I have no idea about how to go about it. After all I have only read 'Introduction to Classical and Quantum Computing' by Thomas G.Wong and a few quantum computing blogs."
   ]
  },
  {
   "cell_type": "markdown",
   "id": "25ae91fd",
   "metadata": {},
   "source": [
    "My first idea was to search the classical circuit for comparing two numbers and convert it into a  reversible quantum circuit as we did in conversion of classical adder to quantum adder.\n",
    "\n",
    "The search was mostly futile. So, I attempted the second idea."
   ]
  },
  {
   "cell_type": "markdown",
   "id": "318a2f54",
   "metadata": {},
   "source": [
    "The second idea was to directly find a quantum circuit that compares two numbers.\n",
    "Voila, I found a few blog and a research paper. My solution is inspired from below mentioned references."
   ]
  },
  {
   "cell_type": "markdown",
   "id": "09468553",
   "metadata": {},
   "source": [
    "What I understood: \\\n",
    "Only when I know how to compare just two single-bit number encoded in two qubit, I can extend this to write a quantum program to compare two multiple-bit number.\n",
    "   \n",
    "Main idea used in comparison of two multiple-bit number: \n",
    "    Start comparing their leftmost bit and move to lower bit only if the compared bits are equal. Else the number with greater upper bit is greater than the other number."
   ]
  },
  {
   "cell_type": "markdown",
   "id": "643793ff",
   "metadata": {},
   "source": [
    "References used:\n",
    "\n",
    "Blogs: \\\n",
    "https://pyqml.medium.com/comparing-two-numbers-using-a-quantum-algorithm-22910cea56aa \n",
    "https://pyqml.medium.com/the-quantum-bit-comparator-463911f7bcd3 \n",
    "\n",
    "Paper:\n",
    "https://www.researchgate.net/publication/228574906_Quantum_bit_string_comparator_Circuits_and_applications#:~:text=This%20quantum%20circuit%20compares%20two,structure%20for%20designing%20of%20algorithms. \n"
   ]
  },
  {
   "cell_type": "markdown",
   "id": "f6b69f27-7029-49f6-b282-f21fb4b08a08",
   "metadata": {},
   "source": [
    "# Compare Two 1-bit Binary Numbers"
   ]
  },
  {
   "cell_type": "code",
   "execution_count": null,
   "id": "73c4c5e1",
   "metadata": {},
   "outputs": [],
   "source": [
    "from qiskit import QuantumCircuit, QuantumRegister, ClassicalRegister, transpile\n",
    "from qiskit_aer import AerSimulator\n",
    "from qiskit.visualization import plot_histogram\n",
    "from qiskit.primitives.sampler import Sampler"
   ]
  },
  {
   "cell_type": "markdown",
   "id": "f3766afa",
   "metadata": {},
   "source": [
    "**bit_compare** function compares two bits and tells us which one is greater by flipping one of two auxiliary qubits that correspond to the according qubit to one. \n",
    "If both numbers are equal, none of the auxiliary qubits is flipped to one."
   ]
  },
  {
   "cell_type": "code",
   "execution_count": null,
   "id": "0ff23418-596b-4376-ac48-add78b50dc6c",
   "metadata": {},
   "outputs": [],
   "source": [
    "def bit_compare():\n",
    "    qr = QuantumRegister(2, \"bits\")\n",
    "    aux = QuantumRegister(2, \"aux\")\n",
    "    \n",
    "    qc = QuantumCircuit(qr, aux)\n",
    "    qc.x(qr[1])\n",
    "    qc.mcx(qr, aux[0])\n",
    "    qc.x(qr[0])\n",
    "    qc.x(qr[1])\n",
    "    qc.mcx(qr, aux[1])\n",
    "    qc.x(qr[0])\n",
    "    \n",
    "    return qc\n",
    "\n",
    "bit_compare().draw(\"mpl\")"
   ]
  },
  {
   "cell_type": "markdown",
   "id": "4e6fd989",
   "metadata": {},
   "source": [
    "**encode**: encodes the number in qubits of the circuit to enable comparison "
   ]
  },
  {
   "cell_type": "code",
   "execution_count": null,
   "id": "eba45415-ebbe-425b-81fc-b9299854c348",
   "metadata": {},
   "outputs": [],
   "source": [
    "def encode(number):\n",
    "    qr = QuantumRegister(1, \"number\")\n",
    "    qc = QuantumCircuit(qr)\n",
    "    if (number == 1):\n",
    "        qc.x(qr[0])\n",
    "    return qc"
   ]
  },
  {
   "cell_type": "markdown",
   "id": "f667ac13",
   "metadata": {},
   "source": [
    "**compare**: Quantum circuit that compares two number by encoding them and then using bit_compare to return the results of their comparison"
   ]
  },
  {
   "cell_type": "code",
   "execution_count": null,
   "id": "258813fc-0796-48d2-89ff-c54a96769f4d",
   "metadata": {},
   "outputs": [],
   "source": [
    "def compare(a, b):\n",
    "    qra = QuantumRegister(1, \"a\")\n",
    "    qrb = QuantumRegister(1, \"b\")\n",
    "    qraux = QuantumRegister(2, \"aux\")\n",
    "\n",
    "    qc = QuantumCircuit(qra, qrb, qraux)\n",
    "\n",
    "    qc.append(encode(a), [*qra])\n",
    "    qc.append(encode(b), [*qrb])\n",
    "\n",
    "    qc.append(bit_compare(), [*qra, *qrb, *qraux])\n",
    "\n",
    "    # Use AerSimulator\n",
    "    qc_measured_this = qc.measure_all(inplace=False)\n",
    "    sampler = Sampler()\n",
    "    job = sampler.run(qc_measured_this, shots=1000)\n",
    "    counts = job.result()\n",
    "    \n",
    "    return counts"
   ]
  },
  {
   "cell_type": "code",
   "execution_count": null,
   "id": "02559811-2cb5-417a-a28c-d31ce6c9523d",
   "metadata": {},
   "outputs": [],
   "source": [
    "counts = compare(1,0)\n",
    "plot_histogram(counts.quasi_dists[0].binary_probabilities())"
   ]
  },
  {
   "cell_type": "markdown",
   "id": "cc3004bf-1f4f-4bb0-8466-467524bfdb60",
   "metadata": {},
   "source": [
    "# Compare Two n-bit strings "
   ]
  },
  {
   "cell_type": "code",
   "execution_count": null,
   "id": "b96bd1db-ccce-4287-9d1b-bfa193dbce0e",
   "metadata": {},
   "outputs": [],
   "source": [
    "from qiskit import QuantumCircuit, QuantumRegister, ClassicalRegister\n",
    "from qiskit.visualization import plot_histogram\n",
    "from qiskit_aer import AerSimulator\n",
    "from qiskit.primitives.sampler import Sampler\n",
    "\n",
    "def bit_compare():\n",
    "    qr = QuantumRegister(2, \"bits\")\n",
    "    aux = QuantumRegister(2, \"aux\")\n",
    "    \n",
    "    qc = QuantumCircuit(qr, aux)\n",
    "    qc.x(qr[1])\n",
    "    qc.mcx(qr, aux[0])\n",
    "    qc.x(qr[0])\n",
    "    qc.x(qr[1])\n",
    "    qc.mcx(qr, aux[1])\n",
    "    qc.x(qr[0])\n",
    "    \n",
    "    return qc"
   ]
  },
  {
   "cell_type": "markdown",
   "id": "d7445484",
   "metadata": {},
   "source": [
    "In encode, we expect the provided bit to be a string, not a number."
   ]
  },
  {
   "cell_type": "code",
   "execution_count": null,
   "id": "d24cbaba-1979-43e3-936c-c0253b9cd3ca",
   "metadata": {},
   "outputs": [],
   "source": [
    "def encode(bit):\n",
    "    qr = QuantumRegister(1, \"number\")\n",
    "    qc = QuantumCircuit(qr)\n",
    "    if (bit == \"1\"):\n",
    "        qc.x(qr[0])\n",
    "    return qc"
   ]
  },
  {
   "cell_type": "markdown",
   "id": "0863d338-abfe-4ccf-9292-f1d70946fdba",
   "metadata": {},
   "source": [
    "The encode function takes a single-bit character. So, to encode an entire bitstring, we need to call this function multiple times."
   ]
  },
  {
   "cell_type": "markdown",
   "id": "79c1c7ad",
   "metadata": {},
   "source": [
    "**compare_bitstring**: \n",
    "1. First, we calculate the number of bits (qubits) we require to represent the numbers.\n",
    "2. The qubits in the qra register represent the first number and the qubits in qrb the second accordingly.\n",
    "3. qraux contains the auxiliary qubits we need to compare single digits. Since we need two of them to compare a single digit, we need 2*bits of them.\n",
    "4. The qrint register further contains “intermediate” qubits that we need to connect the results of comparing single digits.\n",
    "5. For each digit in our bitstrings, we encode the respective position of both bitstrings\n",
    "6. We append the bit_compare function to compare these two digits using two qubits from the qraux register.\n",
    "7. In the next block, we apply the following gates for each digit except the last. We apply x gates on both auxiliaries followed by a multi-controlled X gate (mcx) with the auxiliary qubits as control qubits and an “intermediate” qubit as the target.\n",
    "8. We apply MCX gate only if qrint[-i] is 1, which happens only if ith digit of both bitstring number are equal "
   ]
  },
  {
   "cell_type": "code",
   "execution_count": null,
   "id": "f868fb18-acf0-4c34-8453-9a23677ca66c",
   "metadata": {},
   "outputs": [],
   "source": [
    "# Create circuit with qubits for bitstring a and b + Auxs for caclulation\n",
    "def compare_bitstring(bitstring_a, bitstring_b, exec=True):\n",
    "    bits = len(bitstring_a)\n",
    "    qra = QuantumRegister(bits, \"a\")\n",
    "    qrb = QuantumRegister(bits, \"b\")\n",
    "    qraux = QuantumRegister(2*bits, \"aux\")\n",
    "    qrint = QuantumRegister(bits-1, \"int\")\n",
    "    \n",
    "    # If using Sampler:\n",
    "    # cr = ClassicalRegister(5*bits-1) \n",
    "    # Else:\n",
    "    cr = ClassicalRegister(2)\n",
    "\n",
    "    print(bits)\n",
    "    \n",
    "    qc = QuantumCircuit(qra, qrb, qraux, qrint, cr)\n",
    "\n",
    "    # For each digit in our bitstrings, we encode the respective position of both bitstrings \n",
    "    # We append the bit_compare function \n",
    "    # to compare these two digits using two qubits from the qraux register.\n",
    "    for i in range(bits):\n",
    "        qc.append(encode(bitstring_a[i]), [qra[i]])\n",
    "        qc.append(encode(bitstring_b[i]), [qrb[i]])\n",
    "        qc.append(bit_compare(), [qra[i], qrb[i], qraux[2*i], qraux[2*i+1]])\n",
    "        \n",
    "        # We apply an x gate on the “intermediate” qubit only if both auxiliary qubits are 0.\n",
    "        # This is only the case if the compared digits are equal.  \n",
    "        if i < bits-1:\n",
    "            qc.x(qraux[2*i])\n",
    "            qc.x(qraux[2*i+1])\n",
    "            qc.mcx([qraux[2*i], qraux[2*i+1]], qrint[i])\n",
    "            qc.x(qraux[2*i])\n",
    "            qc.x(qraux[2*i+1])\n",
    "    \n",
    "    # Applies MCX gate only if qrint[-i] is 1, \n",
    "    # which happens only if ith digit of both bitstring number are equal \n",
    "    for i in range(0, bits-1):\n",
    "        qc.mcx([qrint[-i]], qraux[2*(-i-1)], qraux[2*(-i)])\n",
    "        qc.mcx([qrint[-i]], qraux[2*(-i-1)+1], qraux[2*(-i)+1])\n",
    "        \n",
    "    # Only need to measure two qubits if not using the Sampler\n",
    "    qc.measure(qraux[0], cr[0])\n",
    "    qc.measure(qraux[1], cr[1])\n",
    "    \n",
    "    # Need to use measure_all since we are using Sampler for the circuit\n",
    "    # qc.measure_all()\n",
    "    \n",
    "    if exec:\n",
    "        # sampler = Sampler()\n",
    "        # job = sampler.run(qc)\n",
    "        # counts = job.result()\n",
    "        \n",
    "        simulator = AerSimulator()\n",
    "        circ = transpile(qc, simulator)\n",
    "        result = simulator.run(circ).result()\n",
    "        counts = result.get_counts(circ)\n",
    "\n",
    "        return counts\n",
    "    else:\n",
    "        return qc"
   ]
  },
  {
   "cell_type": "markdown",
   "id": "86925451",
   "metadata": {},
   "source": [
    "### Rationale for : \n",
    "```\n",
    "for i in range(0, bits-1):\n",
    "        qc.mcx([qrint[-i]], qraux[2*(-i-1)], qraux[2*(-i)])\n",
    "        qc.mcx([qrint[-i]], qraux[2*(-i-1)+1], qraux[2*(-i)+1])\n",
    "```\n",
    "##### First control qubit\n",
    "First control qubit in both lines is qrint[-i]. \n",
    "Therefore, if qrint[-i] qubit is not 1 none of the following mcx gates will have any effect. Remember that this is only 1 if the previous digits are equal.\n",
    "\n",
    "That is, we only care about lower digits if the upper digits are equal. We read bitstrings from right to left. So, the very first digit we read by iterating through the bitstring is the highest. If the two numbers we compare differ in that digit, we don’t need to look any further. For instance, 100 is greater than 011.\n",
    "\n",
    "So, only if the upper digits are equal do we flip the corresponding “intermediate” qubit so that we “look” at the lower digits.\n",
    "\n",
    "##### Second control qubit\n",
    "The second control qubits of these gates are the auxiliary qubits of the lower comparison. One of these being one indicates that the corresponding digit is greater.\n",
    "\n",
    "##### Target qubit\n",
    "The target qubit of these mcx gates are the auxiliary qubits of the upper digit comparison. \n",
    "\n",
    "#### Conclusion\n",
    "So, we look at the lower digits only if the upper digits are equal and the auxiliary qubits are 0. Then, if one of the lower digits is greater than the other, the corresponding mcx gate flips the auxiliary qubit of the upper digit comparison from 0 to 1. \n",
    "\n",
    "Therfore, to see which number is greater, we only need to look at the auxiliary qubits representing the upper digits."
   ]
  },
  {
   "cell_type": "markdown",
   "id": "4aa7ee2b",
   "metadata": {},
   "source": [
    "### Final Quantum Program to compare two arbitary length bitstrings"
   ]
  },
  {
   "cell_type": "code",
   "execution_count": null,
   "id": "33a59b00",
   "metadata": {},
   "outputs": [],
   "source": [
    "from qiskit import QuantumCircuit, QuantumRegister, ClassicalRegister\n",
    "from qiskit.visualization import plot_histogram\n",
    "from qiskit_aer import AerSimulator\n",
    "from qiskit.primitives.sampler import Sampler\n",
    "\n",
    "def bit_compare():\n",
    "    qr = QuantumRegister(2, \"bits\")\n",
    "    aux = QuantumRegister(2, \"aux\")\n",
    "    \n",
    "    qc = QuantumCircuit(qr, aux)\n",
    "    qc.x(qr[1])\n",
    "    qc.mcx(qr, aux[0])\n",
    "    qc.x(qr[0])\n",
    "    qc.x(qr[1])\n",
    "    qc.mcx(qr, aux[1])\n",
    "    qc.x(qr[0])\n",
    "    \n",
    "    return qc\n",
    "\n",
    "def encode(bit):\n",
    "    qr = QuantumRegister(1, \"number\")\n",
    "    qc = QuantumCircuit(qr)\n",
    "    if (bit == \"1\"):\n",
    "        qc.x(qr[0])\n",
    "    return qc\n",
    "\n",
    "def compare_bitstring(bitstring_a, bitstring_b, exec=True):\n",
    "    num_bits = len(bitstring_a)\n",
    "    qra = QuantumRegister(num_bits, \"a\")\n",
    "    qrb = QuantumRegister(num_bits, \"b\")\n",
    "    qraux = QuantumRegister(2*num_bits, \"aux\")\n",
    "    qrint = QuantumRegister(num_bits-1, \"int\")\n",
    "    cr = ClassicalRegister(2)\n",
    "\n",
    "    qc = QuantumCircuit(qra, qrb, qraux, qrint, cr)\n",
    "    \n",
    "    for i in range(num_bits):\n",
    "        qc.append(encode(bitstring_a[i]), [qra[i]])\n",
    "        qc.append(encode(bitstring_b[i]), [qrb[i]])\n",
    "        qc.append(bit_compare(), [qra[i], qrb[i], qraux[2*i+1], qraux[2*i]])\n",
    "        \n",
    "        if i < num_bits-1:\n",
    "            qc.x(qraux[2*i])\n",
    "            qc.x(qraux[2*i+1])\n",
    "            qc.mcx([qraux[2*i], qraux[2*i+1]], qrint[i])\n",
    "            qc.x(qraux[2*i])\n",
    "            qc.x(qraux[2*i+1])\n",
    "        \n",
    "    for i in range(0, num_bits-1):\n",
    "        qc.mcx([qrint[-i]], qraux[2*(-i-1)], qraux[2*(-i)])\n",
    "        qc.mcx([qrint[-i]], qraux[2*(-i-1)+1], qraux[2*(-i)+1])\n",
    "        \n",
    "    qc.measure(qraux[0], cr[0])\n",
    "    qc.measure(qraux[1], cr[1])\n",
    "    \n",
    "    if exec:\n",
    "        simulator = AerSimulator()\n",
    "        circ = transpile(qc, simulator)\n",
    "        result = simulator.run(circ).result()\n",
    "        counts = result.get_counts(circ)\n",
    "        return counts\n",
    "    else:\n",
    "        return qc"
   ]
  },
  {
   "cell_type": "markdown",
   "id": "7062fd12",
   "metadata": {},
   "source": [
    "**NOTE:** We get '01' if bitstring_a is less than bitstring_b"
   ]
  },
  {
   "cell_type": "code",
   "execution_count": null,
   "id": "57e94d06",
   "metadata": {},
   "outputs": [],
   "source": [
    "compare_bitstring('10','11', exec=False).draw(\"mpl\")\n",
    "compare_bitstring(\"01\", \"10\")"
   ]
  },
  {
   "cell_type": "markdown",
   "id": "9f54d334-6885-4875-822e-d4f631067808",
   "metadata": {},
   "source": [
    "This algorithm works for bitstrings of arbitrary size"
   ]
  },
  {
   "cell_type": "markdown",
   "id": "13d5a015",
   "metadata": {},
   "source": [
    "# Less than K"
   ]
  },
  {
   "cell_type": "markdown",
   "id": "127a9391",
   "metadata": {},
   "source": [
    "Now, onto the screening task 1. \\\n",
    "Task 1: \n",
    "Given a positive integer “k” and a list of integer numbers, look for the numbers within the list, that are less than k. Consider an appropriate number of qubits and explain why your proposal is valid for all kinds of numbers in case \n"
   ]
  },
  {
   "cell_type": "code",
   "execution_count": null,
   "id": "caa87805",
   "metadata": {},
   "outputs": [],
   "source": [
    "def adjust_bitstrings(bitstring_a, bitstring_b):\n",
    "    len_a = len(bitstring_a)\n",
    "    len_b = len(bitstring_b)\n",
    "        \n",
    "    # Determine the maximum length\n",
    "    max_len = max(len_a, len_b)\n",
    "    \n",
    "    # Add leading zeros to the shorter bitstring\n",
    "    if len_a < max_len:\n",
    "        bitstring_a = bitstring_a[2:].zfill(max_len-len_a)\n",
    "    if len_b < max_len:\n",
    "        bitstring_b = bitstring_b[2:].zfill(max_len-len_b)\n",
    "\n",
    "    return bitstring_a, bitstring_b"
   ]
  },
  {
   "cell_type": "code",
   "execution_count": null,
   "id": "0e6a3207",
   "metadata": {},
   "outputs": [],
   "source": [
    "def less_than_k(k: int, list_n: list[int]):\n",
    "    list_less_than_k = []\n",
    "    bitstring_a = bin(k)\n",
    "    for number in list_n:\n",
    "        bitstring_b = bin(number)\n",
    "        \n",
    "        if len(bitstring_a) != len(bitstring_b):\n",
    "            bitstring_a, bitstring_b = adjust_bitstrings(bitstring_a, bitstring_b)\n",
    "        \n",
    "        # Get the comparison of two numbers from our quantum program \n",
    "        count = compare_bitstring(bitstring_a, bitstring_b)\n",
    "    \n",
    "        # If number is less than k, then we get '01' \n",
    "        # and append that number to our list\n",
    "        if count.get('01') is not None:\n",
    "            list_less_than_k.append(number)\n",
    "            \n",
    "    return list_less_than_k"
   ]
  },
  {
   "cell_type": "code",
   "execution_count": null,
   "id": "1247ae3f",
   "metadata": {},
   "outputs": [],
   "source": [
    "A = less_than_k(7,[4,9,11,14,1,13,6,15])\n",
    "print(A)\n",
    "\n",
    "# for k=7 and number = 14:\n",
    "# interestingly, the count from qProgram is '00' \n",
    "# because adding a trailing zero to bin(7) is equal to bin(14) "
   ]
  },
  {
   "cell_type": "markdown",
   "id": "bfcff28f",
   "metadata": {},
   "source": [
    "Thus, we have the solution for task 1 "
   ]
  }
 ],
 "metadata": {
  "kernelspec": {
   "display_name": "Python 3 (ipykernel)",
   "language": "python",
   "name": "python3"
  },
  "language_info": {
   "codemirror_mode": {
    "name": "ipython",
    "version": 3
   },
   "file_extension": ".py",
   "mimetype": "text/x-python",
   "name": "python",
   "nbconvert_exporter": "python",
   "pygments_lexer": "ipython3",
   "version": "3.11.3"
  },
  "toc": {
   "base_numbering": 1,
   "nav_menu": {},
   "number_sections": true,
   "sideBar": true,
   "skip_h1_title": false,
   "title_cell": "Table of Contents",
   "title_sidebar": "Contents",
   "toc_cell": true,
   "toc_position": {
    "height": "calc(100% - 180px)",
    "left": "10px",
    "top": "150px",
    "width": "212.1875px"
   },
   "toc_section_display": true,
   "toc_window_display": true
  }
 },
 "nbformat": 4,
 "nbformat_minor": 5
}
